{
 "cells": [
  {
   "cell_type": "code",
   "execution_count": 1,
   "id": "b40021b3-97c1-4448-92f6-13d6e9f879d7",
   "metadata": {},
   "outputs": [
    {
     "name": "stdout",
     "output_type": "stream",
     "text": [
      "Requirement already satisfied: PyPDF2 in c:\\users\\acer\\appdata\\local\\programs\\python\\python312\\lib\\site-packages (3.0.1)\n"
     ]
    }
   ],
   "source": [
    "!pip install PyPDF2"
   ]
  },
  {
   "cell_type": "code",
   "execution_count": 2,
   "id": "2bfbe99b-e443-465e-ac02-dd8830ebadb1",
   "metadata": {},
   "outputs": [],
   "source": [
    "from PyPDF2 import PdfReader\n",
    "\n",
    "reader = PdfReader(\"Ashish_Gupta_Resume_py (1).pdf\")\n",
    "number_of_pages = len(reader.pages)\n",
    "text=\"\"\n",
    "for page_num in range(number_of_pages):\n",
    "    page_text=reader.pages[page_num]\n",
    "    text+=page_text.extract_text()\n",
    "  "
   ]
  },
  {
   "cell_type": "code",
   "execution_count": 3,
   "id": "2085dca6-a5fb-4dba-8f42-29eaf7e4b6b4",
   "metadata": {},
   "outputs": [
    {
     "data": {
      "text/plain": [
       "'ASHISH GUPTA\\n+91-7887077745 ⋄Noida, IN\\nashishguptaji21@gmail.com ⋄linkedin.com/in/Ashish Gupta ⋄Ashish-21CS132.github.io\\nEDUCATION\\nBTech-Computer Science and Engineering JSS Academy of Technical Education Noida. Expected 2025\\nRelevant Coursework: Data Structures, Database Management System, OOP, Design and Analysis of Algorithms,\\nOperating System, Machine Learning Techniques\\nSKILLS\\nLanguages C, C++, Python, Javascript, HTML, CSS, SQL\\nFrameworks ReactJS, ExpressJS, Redux Toolkit, Flask, Langchain\\nDatabases MySQL, PostgreSQL, MongoDB\\nTools and Other Git, GitHub, Insomnia, Postman, OpenAI, LLM\\nPython Libraries NumPy, Pandas, Scikit-Learn, Matplotlib, Seaborn, Machine Learning Algorithms\\nPROJECTS\\nConnectMe (Github)\\nReactJS, JavaScript, NodeJS, ExpressJS, MongoDB, Redux Toolkit, TailwindCSS\\n•A Full Stack project (MERN) which is a social media website.\\n•Enabled Post creation, connection request, update profile, like other’s posts, profile viewing.\\nQueryBot (Github)\\nPython, Gen-AI, LLM, Langchain, Gemini, Streamlit, Jupyter, MySQL\\n•A Generative-AI LLM Model. It is a QueryBot.\\n•The LLM model takes query from the owner and generates an SQL query with help of Gemini LLM model and\\nfetch the answer from the MySQL database.\\n•Used Gemini LLM model to convert queries into SQL queries.\\nMachine Learning Projects (Github)\\nPython, Pandas, Scikit-Learn, ReactJS, Flask, TailwindCSS, Jupyter, CNN, ANN, NLP\\n•Car Price Predictor A Machine learning Model to predict the car price according to own specifications.\\n•Image Detector A Deep Learning CNN Model to identifies the images of Dogs and Cats.\\n•Movies Recommendation A NLP model to recommend the name of 5 similar type of movies.\\nEXPERIENCE\\nOasis Infobyte Nov 2023 - Jan 2024\\nFull Stack Web developer Remote - Noida, IN\\n•Worked as Front-end React Developer. Creating various web pages using ReactJS, TailwindCSS, Redux Toolkit.\\n•Created highly optimized pages and also worked with back-end developers to design APIs.\\nACHIEVEMENTS\\n•Global rank 53in CodeChef November 2022 Division 3 (Rated).\\n•Maximum Rated 1635, ashishcoder21 (3 star ) at CodeChef\\n•Maximum Rated 1466, Ashish Gupta at LeetCode\\n•Maximum Rated 1128, ashishcoder21 (Pupil) at Codeforces\\n•Solved more than 800+ coding problems from Leetcode, Codechef, Codeforces, CSES Problems Set.'"
      ]
     },
     "execution_count": 3,
     "metadata": {},
     "output_type": "execute_result"
    }
   ],
   "source": [
    "text"
   ]
  },
  {
   "cell_type": "code",
   "execution_count": 4,
   "id": "e56377ef-e3b3-461c-8ae2-5f795c8339d5",
   "metadata": {},
   "outputs": [],
   "source": [
    "import re\n",
    "\n",
    "def preprocess_text(text):\n",
    "    text = re.sub(r'\\s+', ' ', text)  # Remove extra whitespace\n",
    "    text = re.sub(r'[^\\w\\s]', '', text)  # Remove punctuation\n",
    "    return text"
   ]
  },
  {
   "cell_type": "code",
   "execution_count": 5,
   "id": "abb76ebc-8b91-47ae-8081-6d5894e530b7",
   "metadata": {},
   "outputs": [],
   "source": [
    "process_text=preprocess_text(text)"
   ]
  },
  {
   "cell_type": "code",
   "execution_count": 6,
   "id": "a26507a7-99b8-41ef-ac94-25f76c217001",
   "metadata": {},
   "outputs": [
    {
     "data": {
      "text/plain": [
       "'ASHISH GUPTA 917887077745 Noida IN ashishguptaji21gmailcom linkedincominAshish Gupta Ashish21CS132githubio EDUCATION BTechComputer Science and Engineering JSS Academy of Technical Education Noida Expected 2025 Relevant Coursework Data Structures Database Management System OOP Design and Analysis of Algorithms Operating System Machine Learning Techniques SKILLS Languages C C Python Javascript HTML CSS SQL Frameworks ReactJS ExpressJS Redux Toolkit Flask Langchain Databases MySQL PostgreSQL MongoDB Tools and Other Git GitHub Insomnia Postman OpenAI LLM Python Libraries NumPy Pandas ScikitLearn Matplotlib Seaborn Machine Learning Algorithms PROJECTS ConnectMe Github ReactJS JavaScript NodeJS ExpressJS MongoDB Redux Toolkit TailwindCSS A Full Stack project MERN which is a social media website Enabled Post creation connection request update profile like others posts profile viewing QueryBot Github Python GenAI LLM Langchain Gemini Streamlit Jupyter MySQL A GenerativeAI LLM Model It is a QueryBot The LLM model takes query from the owner and generates an SQL query with help of Gemini LLM model and fetch the answer from the MySQL database Used Gemini LLM model to convert queries into SQL queries Machine Learning Projects Github Python Pandas ScikitLearn ReactJS Flask TailwindCSS Jupyter CNN ANN NLP Car Price Predictor A Machine learning Model to predict the car price according to own specifications Image Detector A Deep Learning CNN Model to identifies the images of Dogs and Cats Movies Recommendation A NLP model to recommend the name of 5 similar type of movies EXPERIENCE Oasis Infobyte Nov 2023  Jan 2024 Full Stack Web developer Remote  Noida IN Worked as Frontend React Developer Creating various web pages using ReactJS TailwindCSS Redux Toolkit Created highly optimized pages and also worked with backend developers to design APIs ACHIEVEMENTS Global rank 53in CodeChef November 2022 Division 3 Rated Maximum Rated 1635 ashishcoder21 3 star  at CodeChef Maximum Rated 1466 Ashish Gupta at LeetCode Maximum Rated 1128 ashishcoder21 Pupil at Codeforces Solved more than 800 coding problems from Leetcode Codechef Codeforces CSES Problems Set'"
      ]
     },
     "execution_count": 6,
     "metadata": {},
     "output_type": "execute_result"
    }
   ],
   "source": [
    "process_text"
   ]
  },
  {
   "cell_type": "code",
   "execution_count": 7,
   "id": "19ed67c9-900d-4de3-ae67-8cc3c2b86688",
   "metadata": {},
   "outputs": [],
   "source": [
    "import os"
   ]
  },
  {
   "cell_type": "code",
   "execution_count": 15,
   "id": "efdb38e2-c3d2-4cfe-9faf-71dd9590491b",
   "metadata": {},
   "outputs": [],
   "source": [
    "os.environ[\"GOOGLE_API_KEY\"]='google_api_key'"
   ]
  },
  {
   "cell_type": "code",
   "execution_count": 9,
   "id": "686968d5-41a1-4944-b9fa-777ccf05082c",
   "metadata": {},
   "outputs": [],
   "source": [
    "# from langchain_google_genai import ChatGoogleGenerativeAIabs\n",
    "from langchain_google_genai import GoogleGenerativeAI\n",
    "llm = GoogleGenerativeAI(model=\"models/text-bison-001\")\n",
    "\n",
    "# llm = ChatGoogleGenerativeAI(model=\"gemini-pro-vision\")"
   ]
  },
  {
   "cell_type": "code",
   "execution_count": 10,
   "id": "cbab4a4a-4279-4086-afcb-e1b44e47615c",
   "metadata": {},
   "outputs": [],
   "source": [
    "def generate_quiz_questions(input_text):\n",
    "    prompt = \"\"\"You are a quiz generator. Given the text below,  create a multiple-choice question with four options (A, B, C, D) and identify the correct answer. Each question should be followed by four possible answers, where one of them is marked as correct.\n",
    "\n",
    "**Text:** {input_text}\n",
    "\n",
    "**Instructions:**\n",
    "1. Read the provided text carefully.\n",
    "2. Formulate a question that is relevant to the text.\n",
    "3. Provide four answer options for the question.\n",
    "4. Clearly identify which option is correct by indicating it as the correct answer.\n",
    "\n",
    "**Example Output:**\n",
    "\n",
    "**Question:** What is Python known for according to the text?\n",
    "(A) Complex syntax\n",
    "(B) Low-level programming\n",
    "(C) **Readability and simplicity**\n",
    "(D) None of the above\n",
    "\n",
    "---\n",
    "\n",
    "Please generate five question with four options and indicate the correct answer based on the provided text.\"\"\"\n",
    "\n",
    "    response = llm.invoke(prompt)\n",
    "    return response"
   ]
  },
  {
   "cell_type": "code",
   "execution_count": 11,
   "id": "f5e8be8a-3fc7-4b89-a530-2c7f77c4a0e9",
   "metadata": {},
   "outputs": [],
   "source": [
    "def create_quiz_from_pdf():\n",
    "    \n",
    "    clean_text = process_text\n",
    "    quiz_questions = generate_quiz_questions(clean_text)\n",
    "    return quiz_questions\n"
   ]
  },
  {
   "cell_type": "code",
   "execution_count": 12,
   "id": "b52657b9-5bdd-4f07-b7e4-9ff214d2a610",
   "metadata": {},
   "outputs": [],
   "source": [
    "def format_quiz(raw_quiz_text):\n",
    "    # Split the input text into lines\n",
    "    lines = raw_quiz_text.strip().split('\\n')\n",
    "    formatted_quiz = []\n",
    "    current_question = {}\n",
    "    \n",
    "    for line in lines:\n",
    "        # Identify question lines\n",
    "        if line.startswith(\"**Question\"):\n",
    "            # Save the previous question if it exists\n",
    "            if current_question:\n",
    "                if \"question\" in current_question and current_question[\"options\"]:\n",
    "                    formatted_quiz.append(current_question)\n",
    "                current_question = {}\n",
    "            # Start a new question\n",
    "            current_question[\"question\"] = line.strip().replace(\"**\", \"\")\n",
    "            current_question[\"options\"] = []\n",
    "        # Identify options\n",
    "        elif line.startswith(\"(A)\") or line.startswith(\"(B)\") or line.startswith(\"(C)\") or line.startswith(\"(D)\"):\n",
    "            option = line.strip()\n",
    "            if \"**\" in option:\n",
    "                # Remove the asterisks from the correct answer and mark it\n",
    "                option = option.replace(\"**\", \"\")\n",
    "                current_question[\"answer\"] = option\n",
    "            # Add the option to the list of options\n",
    "            current_question[\"options\"].append(option)\n",
    "        # Identify correct answer\n",
    "        elif line.startswith(\"Correct answer:\"):\n",
    "            correct_answer = line.strip().split(\":\")[1].strip()\n",
    "            current_question[\"answer\"] = correct_answer\n",
    "    \n",
    "    # Append the last question if it exists\n",
    "    if current_question and \"question\" in current_question and current_question[\"options\"]:\n",
    "        formatted_quiz.append(current_question)\n",
    "    \n",
    "    return formatted_quiz"
   ]
  },
  {
   "cell_type": "code",
   "execution_count": 13,
   "id": "ce8d2088-a2f6-4002-83c1-57341b8d4e0b",
   "metadata": {},
   "outputs": [
    {
     "name": "stderr",
     "output_type": "stream",
     "text": [
      "Retrying langchain_google_genai.llms._completion_with_retry.<locals>._completion_with_retry in 4.0 seconds as it raised InternalServerError: 500 An internal error has occurred. Please retry or report in https://developers.generativeai.google/guide/troubleshooting.\n"
     ]
    },
    {
     "data": {
      "text/plain": [
       "'**Question 1:**\\n\\nWhat is the most important aspect of a good design?\\n(A) **Functionality**\\n(B) Aesthetics\\n(C) Cost\\n(D) Sustainability\\n\\n**Correct Answer:** A\\n\\n**Question 2:**\\n\\nWhich of the following is not a type of computer programming language?\\n(A) **Assembly**\\n(B) C++\\n(C) Java\\n(D) Python\\n\\n**Correct Answer:** D\\n\\n**Question 3:**\\n\\nWhat is the capital of the United States?\\n(A) **Washington, D.C.**\\n(B) New York City\\n(C) Los Angeles\\n(D) Chicago\\n\\n**Correct Answer:** A\\n\\n**Question 4:**\\n\\nWhat is the highest mountain in the world?\\n(A) Mount Everest\\n(B) K2\\n(C) Mount Kilimanjaro\\n(D) Mount Denali\\n\\n**Correct Answer:** A\\n\\n**Question 5:**\\n\\nWho is the current president of the United States?\\n(A) **Joe Biden**\\n(B) Donald Trump\\n(C) Barack Obama\\n(D) Bill Clinton\\n\\n**Correct Answer:** A'"
      ]
     },
     "execution_count": 13,
     "metadata": {},
     "output_type": "execute_result"
    }
   ],
   "source": [
    "quiz_questions = create_quiz_from_pdf()\n",
    "quiz_questions\n",
    "\n",
    "# save_quiz_to_file(formatted_quiz, output_path)"
   ]
  },
  {
   "cell_type": "code",
   "execution_count": 14,
   "id": "48d26fd4-c6fe-4fbc-bdf5-81dd2061d7e9",
   "metadata": {},
   "outputs": [
    {
     "data": {
      "text/plain": [
       "[{'question': 'Question 1:',\n",
       "  'options': ['(A) Functionality',\n",
       "   '(B) Aesthetics',\n",
       "   '(C) Cost',\n",
       "   '(D) Sustainability'],\n",
       "  'answer': '(A) Functionality'},\n",
       " {'question': 'Question 2:',\n",
       "  'options': ['(A) Assembly', '(B) C++', '(C) Java', '(D) Python'],\n",
       "  'answer': '(A) Assembly'},\n",
       " {'question': 'Question 3:',\n",
       "  'options': ['(A) Washington, D.C.',\n",
       "   '(B) New York City',\n",
       "   '(C) Los Angeles',\n",
       "   '(D) Chicago'],\n",
       "  'answer': '(A) Washington, D.C.'},\n",
       " {'question': 'Question 4:',\n",
       "  'options': ['(A) Mount Everest',\n",
       "   '(B) K2',\n",
       "   '(C) Mount Kilimanjaro',\n",
       "   '(D) Mount Denali']},\n",
       " {'question': 'Question 5:',\n",
       "  'options': ['(A) Joe Biden',\n",
       "   '(B) Donald Trump',\n",
       "   '(C) Barack Obama',\n",
       "   '(D) Bill Clinton'],\n",
       "  'answer': '(A) Joe Biden'}]"
      ]
     },
     "execution_count": 14,
     "metadata": {},
     "output_type": "execute_result"
    }
   ],
   "source": [
    "formatted_quiz = format_quiz(quiz_questions)\n",
    "formatted_quiz"
   ]
  },
  {
   "cell_type": "code",
   "execution_count": null,
   "id": "053aaa93-585f-40d4-9e62-0379eaa68704",
   "metadata": {},
   "outputs": [],
   "source": []
  }
 ],
 "metadata": {
  "kernelspec": {
   "display_name": "Python 3 (ipykernel)",
   "language": "python",
   "name": "python3"
  },
  "language_info": {
   "codemirror_mode": {
    "name": "ipython",
    "version": 3
   },
   "file_extension": ".py",
   "mimetype": "text/x-python",
   "name": "python",
   "nbconvert_exporter": "python",
   "pygments_lexer": "ipython3",
   "version": "3.12.2"
  }
 },
 "nbformat": 4,
 "nbformat_minor": 5
}
